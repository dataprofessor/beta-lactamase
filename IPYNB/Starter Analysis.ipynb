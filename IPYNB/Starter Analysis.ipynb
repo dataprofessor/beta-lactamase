{
 "cells": [
  {
   "cell_type": "markdown",
   "metadata": {},
   "source": [
    "<center> <h1>Project Beta-Lactamase</h1> </center>\n",
    "<center> <h4>Analysis and EDA</h4> </center>\n",
    "\n",
    "In this part all the analysis and the feature engineering, all the parts and its corresponding reason of approach is been explained properly. Here the main aim is to get the feature engineered dataset and saving them for next set of analysis and model making. This contribution is based on the  [Call of Papers video](https://www.youtube.com/watch?v=_GtEgiWWyK4) by [Data Professor](https://www.youtube.com/channel/UCV8e2g4IWQqK71bbzGDEI4Q) sir. This notebook is the extension of the baseline notebook with some more analysis, as well as an approach to clean the data and getting the right csv data[train, test] for the underlined tasks, and also some future approaches coming up."
   ]
  },
  {
   "cell_type": "markdown",
   "metadata": {},
   "source": [
    "### Importing libraries and getting data"
   ]
  },
  {
   "cell_type": "code",
   "execution_count": 1,
   "metadata": {},
   "outputs": [],
   "source": [
    "import os\n",
    "import sys\n",
    "import zipfile\n",
    "import numpy as np\n",
    "import pandas as pd\n",
    "import matplotlib.pyplot as plt"
   ]
  },
  {
   "cell_type": "code",
   "execution_count": 2,
   "metadata": {},
   "outputs": [],
   "source": [
    "path = os.path.join(os.getcwd()[:-5], 'Data/beta_lactamase_CHEMBL29.zip')\n",
    "zf = zipfile.ZipFile(path, \"r\")"
   ]
  },
  {
   "cell_type": "code",
   "execution_count": 3,
   "metadata": {},
   "outputs": [
    {
     "name": "stdout",
     "output_type": "stream",
     "text": [
      "shape of the data (71973, 9)\n"
     ]
    }
   ],
   "source": [
    "raw_data = pd.concat((pd.read_csv(zf.open(file)) for file in zf.namelist()))\n",
    "data = raw_data.reset_index(drop=True)\n",
    "print(f\"shape of the data {data.shape}\")"
   ]
  },
  {
   "cell_type": "code",
   "execution_count": 4,
   "metadata": {},
   "outputs": [
    {
     "data": {
      "text/html": [
       "<div>\n",
       "<style scoped>\n",
       "    .dataframe tbody tr th:only-of-type {\n",
       "        vertical-align: middle;\n",
       "    }\n",
       "\n",
       "    .dataframe tbody tr th {\n",
       "        vertical-align: top;\n",
       "    }\n",
       "\n",
       "    .dataframe thead th {\n",
       "        text-align: right;\n",
       "    }\n",
       "</style>\n",
       "<table border=\"1\" class=\"dataframe\">\n",
       "  <thead>\n",
       "    <tr style=\"text-align: right;\">\n",
       "      <th></th>\n",
       "      <th>molecule_chembl_id</th>\n",
       "      <th>canonical_smiles</th>\n",
       "      <th>standard_relation</th>\n",
       "      <th>standard_value</th>\n",
       "      <th>standard_units</th>\n",
       "      <th>standard_type</th>\n",
       "      <th>pchembl_value</th>\n",
       "      <th>target_pref_name</th>\n",
       "      <th>bao_label</th>\n",
       "    </tr>\n",
       "  </thead>\n",
       "  <tbody>\n",
       "    <tr>\n",
       "      <th>0</th>\n",
       "      <td>CHEMBL1730</td>\n",
       "      <td>CO/N=C(\\C(=O)N[C@@H]1C(=O)N2C(C(=O)O)=C(COC(C)...</td>\n",
       "      <td>=</td>\n",
       "      <td>10.0</td>\n",
       "      <td>/mM/s</td>\n",
       "      <td>Kcat/Km</td>\n",
       "      <td>NaN</td>\n",
       "      <td>Gil1</td>\n",
       "      <td>assay format</td>\n",
       "    </tr>\n",
       "    <tr>\n",
       "      <th>1</th>\n",
       "      <td>CHEMBL996</td>\n",
       "      <td>CO[C@@]1(NC(=O)Cc2cccs2)C(=O)N2C(C(=O)O)=C(COC...</td>\n",
       "      <td>NaN</td>\n",
       "      <td>NaN</td>\n",
       "      <td>NaN</td>\n",
       "      <td>Kcat/Km</td>\n",
       "      <td>NaN</td>\n",
       "      <td>Gil1</td>\n",
       "      <td>assay format</td>\n",
       "    </tr>\n",
       "    <tr>\n",
       "      <th>2</th>\n",
       "      <td>CHEMBL617</td>\n",
       "      <td>CC(=O)OCC1=C(C(=O)O)N2C(=O)[C@@H](NC(=O)Cc3ccc...</td>\n",
       "      <td>=</td>\n",
       "      <td>598.0</td>\n",
       "      <td>/mM/s</td>\n",
       "      <td>Kcat/Km</td>\n",
       "      <td>NaN</td>\n",
       "      <td>Gil1</td>\n",
       "      <td>assay format</td>\n",
       "    </tr>\n",
       "  </tbody>\n",
       "</table>\n",
       "</div>"
      ],
      "text/plain": [
       "  molecule_chembl_id                                   canonical_smiles  \\\n",
       "0         CHEMBL1730  CO/N=C(\\C(=O)N[C@@H]1C(=O)N2C(C(=O)O)=C(COC(C)...   \n",
       "1          CHEMBL996  CO[C@@]1(NC(=O)Cc2cccs2)C(=O)N2C(C(=O)O)=C(COC...   \n",
       "2          CHEMBL617  CC(=O)OCC1=C(C(=O)O)N2C(=O)[C@@H](NC(=O)Cc3ccc...   \n",
       "\n",
       "  standard_relation  standard_value standard_units standard_type  \\\n",
       "0                 =            10.0          /mM/s       Kcat/Km   \n",
       "1               NaN             NaN            NaN       Kcat/Km   \n",
       "2                 =           598.0          /mM/s       Kcat/Km   \n",
       "\n",
       "   pchembl_value target_pref_name     bao_label  \n",
       "0            NaN             Gil1  assay format  \n",
       "1            NaN             Gil1  assay format  \n",
       "2            NaN             Gil1  assay format  "
      ]
     },
     "execution_count": 4,
     "metadata": {},
     "output_type": "execute_result"
    }
   ],
   "source": [
    "data.head(3)"
   ]
  },
  {
   "cell_type": "markdown",
   "metadata": {},
   "source": [
    "As according the data `pchembl_value` is the value which is the value we have to predict as per the video, so in order to do that we \n",
    "have to remove the `NaN` values also what from this we also got one information that this is a `regression` based problem, but we can also frame this data for other kind of problem like classification, by taking `standard_type` into the consideration, then we can frame it as a `classification problem`\n",
    "All of these could be solved using some standard families of GNN based approaches and architectures. So to summarize we can have :\n",
    "\n",
    "1. `Regression` based task of predicting `pchembl_value` values from the set of molecules.\n",
    "2. `Classification` based task of classifying `standard_type` from the set of molecules.\n",
    "3. `Other tasks` which are Semi-supervised or `SSL / Generative` tasks could also be done.\n",
    "\n",
    "But for now, as a baseline, our task is in ``Regression``"
   ]
  },
  {
   "cell_type": "markdown",
   "metadata": {},
   "source": [
    "### Analysis Set 1"
   ]
  },
  {
   "cell_type": "markdown",
   "metadata": {},
   "source": [
    "Here we will be checking the null values in the pchembl_value column, and see the distribution of the null vs not-null\n",
    "values and remove the potentially null containing values"
   ]
  },
  {
   "cell_type": "code",
   "execution_count": 5,
   "metadata": {},
   "outputs": [
    {
     "data": {
      "image/png": "[encoded data removed]",
      "text/plain": [
       "<Figure size 720x432 with 1 Axes>"
      ]
     },
     "metadata": {
      "needs_background": "light"
     },
     "output_type": "display_data"
    }
   ],
   "source": [
    "missing = data['pchembl_value'].isnull().sum()\n",
    "not_missing = data['pchembl_value'].notnull().sum()\n",
    "\n",
    "\n",
    "plt.figure(figsize=(10,6))\n",
    "plt.title(\"The missing vs the not-null in pchembl_value in data\")\n",
    "x = ['missing', 'not-missing']\n",
    "y = [missing, not_missing]\n",
    "plt.bar(x = x, height = y, color = ['#F8766D', '#00BFC4'], ec = 'black')\n",
    "for index, value in enumerate(y):\n",
    "    plt.text(x = index-0.1, y = value + 1000, s = f\"{value}\", fontdict = dict(fontsize=11))\n",
    "plt.show()"
   ]
  },
  {
   "cell_type": "markdown",
   "metadata": {},
   "source": [
    "since only 10% if the data has `NULL` values so we can remove those values and then further analyse for the not-null values so we will be taking only those values of pchembl_value which are not null without thinking other some approaches, **BUT** we will also save the molecule entities which are having NULL values in an another dataframe so that we can use them as `TEST SET` and perform the task of interest (Supervised, Unsupervised/Semi-Supervised)."
   ]
  },
  {
   "cell_type": "code",
   "execution_count": 6,
   "metadata": {},
   "outputs": [
    {
     "name": "stdout",
     "output_type": "stream",
     "text": [
      "The shape of the data having null pchembl_value values is: (7549, 9)\n"
     ]
    }
   ],
   "source": [
    "data_with_null = data[data['pchembl_value'].isnull()].reset_index(drop = True)\n",
    "\n",
    "print(f\"The shape of the data having null pchembl_value values is: {data_with_null.shape}\")"
   ]
  },
  {
   "cell_type": "code",
   "execution_count": 7,
   "metadata": {},
   "outputs": [
    {
     "name": "stdout",
     "output_type": "stream",
     "text": [
      "The shape of the data having no null pchembl_value values is : (64424, 9)\n"
     ]
    }
   ],
   "source": [
    "data_not_null = data[data['pchembl_value'].notnull()].reset_index(drop = True)\n",
    "\n",
    "print(f\"The shape of the data having no null pchembl_value values is : {data_not_null.shape}\")"
   ]
  },
  {
   "cell_type": "markdown",
   "metadata": {},
   "source": [
    "### Further Analysis "
   ]
  },
  {
   "cell_type": "markdown",
   "metadata": {},
   "source": [
    "Some of the description of the important columns as described from the video are as follows: \n",
    "\n",
    "1. `molecule_chembl_id` : The unique Id of the molecule \n",
    "2. `canonical_smiles`   : SMILEs structure of the molecules which can be converted to molecule objects using rd-kit\n",
    "3. `standard_type`      : Label for the `classification` task\n",
    "4. `pchembl_value`      : Label for the `regression` based task\n",
    "5. `target_pref_name`   : Name of the protein\n",
    "6. `bao_label`          : It says in what format the protein is being collected, whether it is in assay fromat or single protein format\n",
    "\n",
    "**NOTE:**\n",
    "\n",
    "Now, while building the model, we could separate the data based on the different target proteins and using those separated data (containing the filtered out different protein type) and building individual model out of them. Or we \n",
    "can build a single model for different target proteins under a single unified predictive model also called as ``proteochemometric model.`` So this could also be seen as a classification task."
   ]
  },
  {
   "cell_type": "markdown",
   "metadata": {},
   "source": [
    "**Analysis of Redundant entries of the molecules with different `pchembl_value` values**"
   ]
  },
  {
   "cell_type": "markdown",
   "metadata": {},
   "source": [
    "So the idea is fairly simple here, we will keep those `molecule_chembl_id` values which are unique and do not contains any redundant values and for the `molecule_chembl_id`'s which are having redundant values and having different `pchembl_values` we will see whether their standard deviation is > 2 or not, if it is, then we will delete all those sets of the `molecule_chembl_id` else, we will merge them by averaging the `pchembl_values` of those redundant entries."
   ]
  },
  {
   "cell_type": "code",
   "execution_count": 8,
   "metadata": {},
   "outputs": [
    {
     "data": {
      "text/html": [
       "<div>\n",
       "<style scoped>\n",
       "    .dataframe tbody tr th:only-of-type {\n",
       "        vertical-align: middle;\n",
       "    }\n",
       "\n",
       "    .dataframe tbody tr th {\n",
       "        vertical-align: top;\n",
       "    }\n",
       "\n",
       "    .dataframe thead th {\n",
       "        text-align: right;\n",
       "    }\n",
       "</style>\n",
       "<table border=\"1\" class=\"dataframe\">\n",
       "  <thead>\n",
       "    <tr style=\"text-align: right;\">\n",
       "      <th></th>\n",
       "      <th>molecule_chembl_id</th>\n",
       "      <th>canonical_smiles</th>\n",
       "      <th>standard_relation</th>\n",
       "      <th>standard_value</th>\n",
       "      <th>standard_units</th>\n",
       "      <th>standard_type</th>\n",
       "      <th>pchembl_value</th>\n",
       "      <th>target_pref_name</th>\n",
       "      <th>bao_label</th>\n",
       "    </tr>\n",
       "  </thead>\n",
       "  <tbody>\n",
       "    <tr>\n",
       "      <th>0</th>\n",
       "      <td>CHEMBL777</td>\n",
       "      <td>O=C(O)[C@H]1/C(=C/CO)O[C@@H]2CC(=O)N21</td>\n",
       "      <td>=</td>\n",
       "      <td>9.0</td>\n",
       "      <td>nM</td>\n",
       "      <td>IC50</td>\n",
       "      <td>8.05</td>\n",
       "      <td>Gil1</td>\n",
       "      <td>assay format</td>\n",
       "    </tr>\n",
       "    <tr>\n",
       "      <th>2</th>\n",
       "      <td>CHEMBL777</td>\n",
       "      <td>O=C(O)[C@H]1/C(=C/CO)O[C@@H]2CC(=O)N21</td>\n",
       "      <td>=</td>\n",
       "      <td>70.0</td>\n",
       "      <td>nM</td>\n",
       "      <td>IC50</td>\n",
       "      <td>7.16</td>\n",
       "      <td>Beta-lactamase SCO-1</td>\n",
       "      <td>single protein format</td>\n",
       "    </tr>\n",
       "    <tr>\n",
       "      <th>26</th>\n",
       "      <td>CHEMBL777</td>\n",
       "      <td>O=C(O)[C@H]1/C(=C/CO)O[C@@H]2CC(=O)N21</td>\n",
       "      <td>=</td>\n",
       "      <td>25360.0</td>\n",
       "      <td>nM</td>\n",
       "      <td>Ki</td>\n",
       "      <td>4.60</td>\n",
       "      <td>Beta-lactamase SHV-5</td>\n",
       "      <td>single protein format</td>\n",
       "    </tr>\n",
       "  </tbody>\n",
       "</table>\n",
       "</div>"
      ],
      "text/plain": [
       "   molecule_chembl_id                        canonical_smiles  \\\n",
       "0           CHEMBL777  O=C(O)[C@H]1/C(=C/CO)O[C@@H]2CC(=O)N21   \n",
       "2           CHEMBL777  O=C(O)[C@H]1/C(=C/CO)O[C@@H]2CC(=O)N21   \n",
       "26          CHEMBL777  O=C(O)[C@H]1/C(=C/CO)O[C@@H]2CC(=O)N21   \n",
       "\n",
       "   standard_relation  standard_value standard_units standard_type  \\\n",
       "0                  =             9.0             nM          IC50   \n",
       "2                  =            70.0             nM          IC50   \n",
       "26                 =         25360.0             nM            Ki   \n",
       "\n",
       "    pchembl_value      target_pref_name              bao_label  \n",
       "0            8.05                  Gil1           assay format  \n",
       "2            7.16  Beta-lactamase SCO-1  single protein format  \n",
       "26           4.60  Beta-lactamase SHV-5  single protein format  "
      ]
     },
     "execution_count": 8,
     "metadata": {},
     "output_type": "execute_result"
    }
   ],
   "source": [
    "data_not_null[data_not_null['molecule_chembl_id'] == 'CHEMBL777'].head(3)"
   ]
  },
  {
   "cell_type": "markdown",
   "metadata": {},
   "source": [
    "This is the table showing all those values having the same `molecule_chembl_id` as `CHEMBL777`, there are total of 37 such\n",
    "entries, which had been truncated just to see the results. And all of these have different `pchembl_value` values.\n",
    "So this is the reason why we have to take the collective data by merging them on the basis of the specified conditions \n",
    "above."
   ]
  },
  {
   "cell_type": "code",
   "execution_count": 9,
   "metadata": {},
   "outputs": [
    {
     "data": {
      "text/html": [
       "<div>\n",
       "<style scoped>\n",
       "    .dataframe tbody tr th:only-of-type {\n",
       "        vertical-align: middle;\n",
       "    }\n",
       "\n",
       "    .dataframe tbody tr th {\n",
       "        vertical-align: top;\n",
       "    }\n",
       "\n",
       "    .dataframe thead th {\n",
       "        text-align: right;\n",
       "    }\n",
       "</style>\n",
       "<table border=\"1\" class=\"dataframe\">\n",
       "  <thead>\n",
       "    <tr style=\"text-align: right;\">\n",
       "      <th></th>\n",
       "      <th>standard_value</th>\n",
       "      <th>pchembl_value</th>\n",
       "    </tr>\n",
       "    <tr>\n",
       "      <th>molecule_chembl_id</th>\n",
       "      <th></th>\n",
       "      <th></th>\n",
       "    </tr>\n",
       "  </thead>\n",
       "  <tbody>\n",
       "    <tr>\n",
       "      <th>CHEMBL1018</th>\n",
       "      <td>316.200000</td>\n",
       "      <td>6.500000</td>\n",
       "    </tr>\n",
       "    <tr>\n",
       "      <th>CHEMBL1024</th>\n",
       "      <td>11220.200000</td>\n",
       "      <td>4.950000</td>\n",
       "    </tr>\n",
       "    <tr>\n",
       "      <th>CHEMBL1028</th>\n",
       "      <td>2818.400000</td>\n",
       "      <td>5.550000</td>\n",
       "    </tr>\n",
       "    <tr>\n",
       "      <th>CHEMBL1036</th>\n",
       "      <td>39.800000</td>\n",
       "      <td>7.400000</td>\n",
       "    </tr>\n",
       "    <tr>\n",
       "      <th>CHEMBL104</th>\n",
       "      <td>27500.000000</td>\n",
       "      <td>4.580000</td>\n",
       "    </tr>\n",
       "    <tr>\n",
       "      <th>...</th>\n",
       "      <td>...</td>\n",
       "      <td>...</td>\n",
       "    </tr>\n",
       "    <tr>\n",
       "      <th>CHEMBL97643</th>\n",
       "      <td>11220.200000</td>\n",
       "      <td>4.950000</td>\n",
       "    </tr>\n",
       "    <tr>\n",
       "      <th>CHEMBL977</th>\n",
       "      <td>631.000000</td>\n",
       "      <td>6.200000</td>\n",
       "    </tr>\n",
       "    <tr>\n",
       "      <th>CHEMBL98406</th>\n",
       "      <td>63095.700000</td>\n",
       "      <td>4.200000</td>\n",
       "    </tr>\n",
       "    <tr>\n",
       "      <th>CHEMBL995</th>\n",
       "      <td>14125.400000</td>\n",
       "      <td>4.850000</td>\n",
       "    </tr>\n",
       "    <tr>\n",
       "      <th>CHEMBL996</th>\n",
       "      <td>246.666667</td>\n",
       "      <td>6.716667</td>\n",
       "    </tr>\n",
       "  </tbody>\n",
       "</table>\n",
       "<p>63038 rows × 2 columns</p>\n",
       "</div>"
      ],
      "text/plain": [
       "                    standard_value  pchembl_value\n",
       "molecule_chembl_id                               \n",
       "CHEMBL1018              316.200000       6.500000\n",
       "CHEMBL1024            11220.200000       4.950000\n",
       "CHEMBL1028             2818.400000       5.550000\n",
       "CHEMBL1036               39.800000       7.400000\n",
       "CHEMBL104             27500.000000       4.580000\n",
       "...                            ...            ...\n",
       "CHEMBL97643           11220.200000       4.950000\n",
       "CHEMBL977               631.000000       6.200000\n",
       "CHEMBL98406           63095.700000       4.200000\n",
       "CHEMBL995             14125.400000       4.850000\n",
       "CHEMBL996               246.666667       6.716667\n",
       "\n",
       "[63038 rows x 2 columns]"
      ]
     },
     "execution_count": 9,
     "metadata": {},
     "output_type": "execute_result"
    }
   ],
   "source": [
    "data_not_null.groupby('molecule_chembl_id').mean()"
   ]
  },
  {
   "cell_type": "markdown",
   "metadata": {},
   "source": [
    "Here we are getting the mean `pchembl_value` values for the `molecule_chembl_id` values so, redundant values\n",
    "like `CHEMBL777` will be takes as one by taking the mean of its `pchembl_value` but, all these will be taken into one consideration i.e. if only the `standard deviation` of all the `pchembl_values` for the very `molecule_chembl_id` must be < 2."
   ]
  },
  {
   "cell_type": "code",
   "execution_count": 10,
   "metadata": {
    "scrolled": false
   },
   "outputs": [
    {
     "data": {
      "text/html": [
       "<div>\n",
       "<style scoped>\n",
       "    .dataframe tbody tr th:only-of-type {\n",
       "        vertical-align: middle;\n",
       "    }\n",
       "\n",
       "    .dataframe tbody tr th {\n",
       "        vertical-align: top;\n",
       "    }\n",
       "\n",
       "    .dataframe thead th {\n",
       "        text-align: right;\n",
       "    }\n",
       "</style>\n",
       "<table border=\"1\" class=\"dataframe\">\n",
       "  <thead>\n",
       "    <tr style=\"text-align: right;\">\n",
       "      <th></th>\n",
       "      <th>standard_value</th>\n",
       "      <th>pchembl_value</th>\n",
       "    </tr>\n",
       "    <tr>\n",
       "      <th>molecule_chembl_id</th>\n",
       "      <th></th>\n",
       "      <th></th>\n",
       "    </tr>\n",
       "  </thead>\n",
       "  <tbody>\n",
       "    <tr>\n",
       "      <th>CHEMBL104</th>\n",
       "      <td>10606.601718</td>\n",
       "      <td>0.169706</td>\n",
       "    </tr>\n",
       "    <tr>\n",
       "      <th>CHEMBL1089781</th>\n",
       "      <td>2418.627366</td>\n",
       "      <td>0.459891</td>\n",
       "    </tr>\n",
       "    <tr>\n",
       "      <th>CHEMBL1091</th>\n",
       "      <td>39575.140197</td>\n",
       "      <td>0.212132</td>\n",
       "    </tr>\n",
       "    <tr>\n",
       "      <th>CHEMBL109227</th>\n",
       "      <td>0.000000</td>\n",
       "      <td>0.000000</td>\n",
       "    </tr>\n",
       "    <tr>\n",
       "      <th>CHEMBL1126</th>\n",
       "      <td>2545.584412</td>\n",
       "      <td>0.212132</td>\n",
       "    </tr>\n",
       "    <tr>\n",
       "      <th>...</th>\n",
       "      <td>...</td>\n",
       "      <td>...</td>\n",
       "    </tr>\n",
       "    <tr>\n",
       "      <th>CHEMBL87686</th>\n",
       "      <td>6984.086607</td>\n",
       "      <td>1.866762</td>\n",
       "    </tr>\n",
       "    <tr>\n",
       "      <th>CHEMBL87719</th>\n",
       "      <td>339.411255</td>\n",
       "      <td>0.869741</td>\n",
       "    </tr>\n",
       "    <tr>\n",
       "      <th>CHEMBL891</th>\n",
       "      <td>7496.901315</td>\n",
       "      <td>1.836146</td>\n",
       "    </tr>\n",
       "    <tr>\n",
       "      <th>CHEMBL9306</th>\n",
       "      <td>234.759451</td>\n",
       "      <td>0.544472</td>\n",
       "    </tr>\n",
       "    <tr>\n",
       "      <th>CHEMBL996</th>\n",
       "      <td>220.302822</td>\n",
       "      <td>0.368556</td>\n",
       "    </tr>\n",
       "  </tbody>\n",
       "</table>\n",
       "<p>804 rows × 2 columns</p>\n",
       "</div>"
      ],
      "text/plain": [
       "                    standard_value  pchembl_value\n",
       "molecule_chembl_id                               \n",
       "CHEMBL104             10606.601718       0.169706\n",
       "CHEMBL1089781          2418.627366       0.459891\n",
       "CHEMBL1091            39575.140197       0.212132\n",
       "CHEMBL109227              0.000000       0.000000\n",
       "CHEMBL1126             2545.584412       0.212132\n",
       "...                            ...            ...\n",
       "CHEMBL87686            6984.086607       1.866762\n",
       "CHEMBL87719             339.411255       0.869741\n",
       "CHEMBL891              7496.901315       1.836146\n",
       "CHEMBL9306              234.759451       0.544472\n",
       "CHEMBL996               220.302822       0.368556\n",
       "\n",
       "[804 rows x 2 columns]"
      ]
     },
     "execution_count": 10,
     "metadata": {},
     "output_type": "execute_result"
    }
   ],
   "source": [
    "std_data = data_not_null.groupby('molecule_chembl_id').std()\n",
    "std_data[std_data['pchembl_value'].notnull()]"
   ]
  },
  {
   "cell_type": "markdown",
   "metadata": {},
   "source": [
    "So these are the `molecule_chembl_id` which are having redundant values and now what we have to do is that we have to\n",
    "filter out those `ids` whole SD of `pchembl_value` is > 2 such that we can drop those at once.\n",
    "\n",
    "**PART 1: Dropping the ids whose `pchembl_value` > 2**"
   ]
  },
  {
   "cell_type": "code",
   "execution_count": 11,
   "metadata": {},
   "outputs": [
    {
     "name": "stdout",
     "output_type": "stream",
     "text": [
      "These are the id we have to remove from the dataframe\n",
      "\n"
     ]
    },
    {
     "data": {
      "text/html": [
       "<div>\n",
       "<style scoped>\n",
       "    .dataframe tbody tr th:only-of-type {\n",
       "        vertical-align: middle;\n",
       "    }\n",
       "\n",
       "    .dataframe tbody tr th {\n",
       "        vertical-align: top;\n",
       "    }\n",
       "\n",
       "    .dataframe thead th {\n",
       "        text-align: right;\n",
       "    }\n",
       "</style>\n",
       "<table border=\"1\" class=\"dataframe\">\n",
       "  <thead>\n",
       "    <tr style=\"text-align: right;\">\n",
       "      <th></th>\n",
       "      <th>standard_value</th>\n",
       "      <th>pchembl_value</th>\n",
       "    </tr>\n",
       "    <tr>\n",
       "      <th>molecule_chembl_id</th>\n",
       "      <th></th>\n",
       "      <th></th>\n",
       "    </tr>\n",
       "  </thead>\n",
       "  <tbody>\n",
       "    <tr>\n",
       "      <th>CHEMBL166730</th>\n",
       "      <td>64389.850602</td>\n",
       "      <td>2.382950</td>\n",
       "    </tr>\n",
       "    <tr>\n",
       "      <th>CHEMBL1795572</th>\n",
       "      <td>17890.931511</td>\n",
       "      <td>2.041429</td>\n",
       "    </tr>\n",
       "    <tr>\n",
       "      <th>CHEMBL3234727</th>\n",
       "      <td>50133.870786</td>\n",
       "      <td>2.015254</td>\n",
       "    </tr>\n",
       "    <tr>\n",
       "      <th>CHEMBL338933</th>\n",
       "      <td>45711.707563</td>\n",
       "      <td>2.020726</td>\n",
       "    </tr>\n",
       "    <tr>\n",
       "      <th>CHEMBL4114669</th>\n",
       "      <td>15575.928775</td>\n",
       "      <td>2.232136</td>\n",
       "    </tr>\n",
       "    <tr>\n",
       "      <th>CHEMBL4114749</th>\n",
       "      <td>2605.293120</td>\n",
       "      <td>2.141316</td>\n",
       "    </tr>\n",
       "    <tr>\n",
       "      <th>CHEMBL4533632</th>\n",
       "      <td>3604.123264</td>\n",
       "      <td>2.283955</td>\n",
       "    </tr>\n",
       "    <tr>\n",
       "      <th>CHEMBL67925</th>\n",
       "      <td>7068.239385</td>\n",
       "      <td>2.404163</td>\n",
       "    </tr>\n",
       "  </tbody>\n",
       "</table>\n",
       "</div>"
      ],
      "text/plain": [
       "                    standard_value  pchembl_value\n",
       "molecule_chembl_id                               \n",
       "CHEMBL166730          64389.850602       2.382950\n",
       "CHEMBL1795572         17890.931511       2.041429\n",
       "CHEMBL3234727         50133.870786       2.015254\n",
       "CHEMBL338933          45711.707563       2.020726\n",
       "CHEMBL4114669         15575.928775       2.232136\n",
       "CHEMBL4114749          2605.293120       2.141316\n",
       "CHEMBL4533632          3604.123264       2.283955\n",
       "CHEMBL67925            7068.239385       2.404163"
      ]
     },
     "execution_count": 11,
     "metadata": {},
     "output_type": "execute_result"
    }
   ],
   "source": [
    "std_data_not_null = std_data[std_data['pchembl_value'].notnull()]\n",
    "ids_to_remove = std_data_not_null[std_data_not_null['pchembl_value'] > 2]\n",
    "\n",
    "print(\"These are the id we have to remove from the dataframe\\n\")\n",
    "ids_to_remove"
   ]
  },
  {
   "cell_type": "code",
   "execution_count": 12,
   "metadata": {
    "scrolled": true
   },
   "outputs": [],
   "source": [
    "ids_removing = ['CHEMBL166730','CHEMBL1795572', 'CHEMBL3234727', 'CHEMBL338933', \n",
    "                'CHEMBL4114669', 'CHEMBL4114749','CHEMBL4533632','CHEMBL67925',]\n",
    "\n",
    "index_of_ids_to_remove = []\n",
    "\n",
    "for ids in ids_removing:\n",
    "    index_of_ids_to_remove.extend(list(data_not_null.index[data_not_null['molecule_chembl_id'] == ids].values))"
   ]
  },
  {
   "cell_type": "markdown",
   "metadata": {},
   "source": [
    "We got all the indices in the dataframe which are having the id values present in the list of `ids_removing`\n",
    "and so now, we will just drop those indices, and we get the filtered out values"
   ]
  },
  {
   "cell_type": "code",
   "execution_count": 13,
   "metadata": {},
   "outputs": [],
   "source": [
    "data_not_null = data_not_null.drop(labels = index_of_ids_to_remove, axis = 0)"
   ]
  },
  {
   "cell_type": "code",
   "execution_count": 14,
   "metadata": {},
   "outputs": [
    {
     "name": "stdout",
     "output_type": "stream",
     "text": [
      "After removing the redundant of SD > 2 shape becomes: (64404, 9)\n"
     ]
    }
   ],
   "source": [
    "print(f\"After removing the redundant of SD > 2 shape becomes: {data_not_null.shape}\")"
   ]
  },
  {
   "cell_type": "markdown",
   "metadata": {},
   "source": [
    "**PART 2: Merging the ids all having redundant ids and different `pchembl_values`**"
   ]
  },
  {
   "cell_type": "code",
   "execution_count": 15,
   "metadata": {},
   "outputs": [
    {
     "name": "stdout",
     "output_type": "stream",
     "text": [
      "After drops and merge based on criterions above the shape of data is: (63030, 3)\n"
     ]
    }
   ],
   "source": [
    "merged = data_not_null.groupby(['molecule_chembl_id']).mean().reset_index()\n",
    "\n",
    "print(f\"After drops and merge based on criterions above the shape of data is: {merged.shape}\")"
   ]
  },
  {
   "cell_type": "code",
   "execution_count": 16,
   "metadata": {},
   "outputs": [],
   "source": [
    "merged_with_data = merged.merge(\n",
    "                    data_not_null, \n",
    "                    on = [\"molecule_chembl_id\", \"molecule_chembl_id\", \"standard_value\"]).reset_index(drop = True)"
   ]
  },
  {
   "cell_type": "code",
   "execution_count": 17,
   "metadata": {},
   "outputs": [
    {
     "data": {
      "text/plain": [
       "CHEMBL1484       3\n",
       "CHEMBL20852      2\n",
       "CHEMBL1375425    2\n",
       "CHEMBL139928     2\n",
       "CHEMBL113381     2\n",
       "                ..\n",
       "CHEMBL1571404    1\n",
       "CHEMBL1391890    1\n",
       "CHEMBL1449107    1\n",
       "CHEMBL1976225    1\n",
       "CHEMBL1483475    1\n",
       "Name: molecule_chembl_id, Length: 62252, dtype: int64"
      ]
     },
     "execution_count": 17,
     "metadata": {},
     "output_type": "execute_result"
    }
   ],
   "source": [
    "merged_with_data['molecule_chembl_id'].value_counts()"
   ]
  },
  {
   "cell_type": "markdown",
   "metadata": {},
   "source": [
    "From this we can see, that somehow some of the data got duplicated, and now we have to check whether those duplicated\n",
    "values have different `pchembl_value_y` or not. And I have explored this part just by seeing those duplicated rows \n",
    "in the dataframe format by doing this : **`merged_with_data[merged_with_data.duplicated()]`** and compared the `pchembl_value_y` with each of the duplicated values, and those where all same, which means those are simply duplicated values, and so we just remove in the conventional way."
   ]
  },
  {
   "cell_type": "code",
   "execution_count": 18,
   "metadata": {},
   "outputs": [],
   "source": [
    "indices_to_delete = list(merged_with_data[merged_with_data.duplicated()].index)\n",
    "indices_to_delete.append(58616) # for some reason, have to explicitely append this index\n",
    "\n",
    "merged_data = merged_with_data.drop(labels = indices_to_delete, axis = 0)"
   ]
  },
  {
   "cell_type": "code",
   "execution_count": 19,
   "metadata": {},
   "outputs": [
    {
     "data": {
      "text/plain": [
       "molecule_chembl_id     0\n",
       "standard_value         0\n",
       "pchembl_value_x        0\n",
       "canonical_smiles      16\n",
       "standard_relation      0\n",
       "standard_units         0\n",
       "standard_type          0\n",
       "pchembl_value_y        0\n",
       "target_pref_name       0\n",
       "bao_label              0\n",
       "dtype: int64"
      ]
     },
     "execution_count": 19,
     "metadata": {},
     "output_type": "execute_result"
    }
   ],
   "source": [
    "# checking NaN values in the merged_data\n",
    "\n",
    "merged_data.isnull().sum()"
   ]
  },
  {
   "cell_type": "markdown",
   "metadata": {},
   "source": [
    "Still 16 `canonical_smiles` have NaN values, so we have to remove those."
   ]
  },
  {
   "cell_type": "code",
   "execution_count": 20,
   "metadata": {},
   "outputs": [],
   "source": [
    "merged_data = merged_data.dropna()"
   ]
  },
  {
   "cell_type": "code",
   "execution_count": 21,
   "metadata": {},
   "outputs": [],
   "source": [
    "# droping the excess pchembl_value_x value from the dataframe and renaming pchembl_value_y as pchembl_value\n",
    "\n",
    "merged_data = merged_data.drop(['pchembl_value_x'], axis = 1)\n",
    "merged_data = merged_data.rename(columns = {'pchembl_value_y' : 'pchembl_value'})"
   ]
  },
  {
   "cell_type": "code",
   "execution_count": 22,
   "metadata": {},
   "outputs": [
    {
     "name": "stdout",
     "output_type": "stream",
     "text": [
      "Finally our shape of the dataframe is : (62236, 9)\n"
     ]
    }
   ],
   "source": [
    "print(f\"Finally our shape of the dataframe is : {merged_data.shape}\")"
   ]
  },
  {
   "cell_type": "markdown",
   "metadata": {},
   "source": [
    "So after all these operations, still our data has > `60K` data points which is very good for training. Now this dataframe has :\n",
    "\n",
    "1. No redundant Ids\n",
    "2. No NaN values\n",
    "3. No redundant Ids having std of `pchembl_values` > 2\n",
    "\n",
    "So this means now our data is good to go for consideration of the next steps of Feature Engineering.\n",
    "we will be exploring the `pchembl_values` and some other columns into more details.\n",
    "\n",
    "\n",
    "### Analysis Set 2\n",
    "\n",
    "Here we will be analysing the dataframe free from all sorts of NaN values in some more details and future approaches that can be applied to get a solution."
   ]
  },
  {
   "cell_type": "code",
   "execution_count": 23,
   "metadata": {},
   "outputs": [
    {
     "data": {
      "image/png": "[encoded data removed]",
      "text/plain": [
       "<Figure size 1728x288 with 1 Axes>"
      ]
     },
     "metadata": {
      "needs_background": "light"
     },
     "output_type": "display_data"
    }
   ],
   "source": [
    "# Top 10 Target protein names.\n",
    "\n",
    "plt.figure(figsize=(10, 6))\n",
    "merged_data.target_pref_name.value_counts()[0:50].plot.bar(figsize=(24,4), color='#00BFC4', ec='black')\n",
    "\n",
    "plt.title('Top 50 Targets', fontsize=18, fontweight='black', pad=15)\n",
    "plt.show()"
   ]
  },
  {
   "cell_type": "markdown",
   "metadata": {},
   "source": [
    "This shows that the column `target_pref_name` is also very much to handle, so what we can do is either filter out the \n",
    "ones with most values, or we can keep those. As if we do the regression tasks, with the SMILES only in that case\n",
    "those are not required much."
   ]
  },
  {
   "cell_type": "code",
   "execution_count": 24,
   "metadata": {},
   "outputs": [
    {
     "data": {
      "image/png": "[encoded data removed]",
      "text/plain": [
       "<Figure size 864x288 with 2 Axes>"
      ]
     },
     "metadata": {
      "needs_background": "light"
     },
     "output_type": "display_data"
    }
   ],
   "source": [
    "# Top Bioactivity and BAO labels counts\n",
    "\n",
    "figure, axes = plt.subplots(1, 2)\n",
    "merged_data.standard_type.value_counts()[:10].plot.bar(\n",
    "    figsize=(12,4), color='#00BFC4', ec='black', ax = axes[0], title = \"Top Bioactivity Units\")\n",
    "\n",
    "\n",
    "bao_labels = merged_data.bao_label.value_counts()\n",
    "bao_labels.plot.bar(\n",
    "    figsize=(12,4), color='#00BFC4', ec='black', ax = axes[1], title = \"Histogram of BioAssay Ontology\")\n",
    "\n",
    "figure.tight_layout()\n",
    "plt.show()"
   ]
  },
  {
   "cell_type": "markdown",
   "metadata": {},
   "source": [
    "Similarly the `Bioactivity units` and `BAO` dist are also very much unstable. Though based on the task here, which is regression if we are not implementing a **`Hybrid Model (GNN + simple ANN)`** it must not be much a problem. Now lets analyse the distribution of **`pchembl_values`**"
   ]
  },
  {
   "cell_type": "code",
   "execution_count": 25,
   "metadata": {
    "scrolled": false
   },
   "outputs": [
    {
     "data": {
      "image/png": "[encoded data removed]",
      "text/plain": [
       "<Figure size 1008x288 with 1 Axes>"
      ]
     },
     "metadata": {
      "needs_background": "light"
     },
     "output_type": "display_data"
    }
   ],
   "source": [
    "# plot the distribution of the data\n",
    "\n",
    "merged_data.pchembl_value.hist(bins=40, figsize=(14,4), color='#00BFC4', ec='black')\n",
    "\n",
    "plt.title('Histogram of pChEMBL values', fontsize=14, fontweight='black', pad=15)\n",
    "plt.xticks(fontsize=12)\n",
    "plt.yticks(fontsize=12)\n",
    "plt.show()"
   ]
  },
  {
   "cell_type": "markdown",
   "metadata": {},
   "source": [
    "From this graph what we can see that most of the values lies in range of `4 to 6`, but most of the values lies \n",
    "in the values of ranges from `3.8 < x < 4.5` and `6.5 < x < 7.2` approximately. As this also shows that the values in `pchembl_value` are highly unstable as\n",
    "most of the `pchembl_value` values are having value of **6.20** or in that range and also most of the values are : `[6.20, 4.00, 4.05, 3.95, 4.35]`, Which means that the intial data is very much unstable but we can some how solve this problem using **Graph Augmentations** approaches.\n",
    "\n",
    "The approach is somewhat like this:\n",
    "```\n",
    "SMILES --➡ Rd-Kit Object --➡ PyG-graph --➡ GraphAugmentations Techniques\n",
    "                                                          |\n",
    "                                                          |\n",
    "                                                          ⬇\n",
    "                                               [G1, G2 ......... , Gn]\n",
    "                                            ----- Aug graph generated ----\n",
    "             Genarted new smiles data                     |\n",
    "                     ⬆                                    |\n",
    "                     |                                    |\n",
    "                     |                                    ⬇\n",
    "                     |                                     \n",
    "           [SMILE1, SMILE2 .... SMILEn] ⬅-----------  Rd-Kit Object    \n",
    "```"
   ]
  },
  {
   "cell_type": "markdown",
   "metadata": {},
   "source": [
    "The main gain in this approach is that though we will be having redundant rows but the `SMILES` structure would be\n",
    "completely different geometrically but will be same w.r.t its properties and attributes."
   ]
  },
  {
   "cell_type": "markdown",
   "metadata": {},
   "source": [
    "Now this could be done, once all the feature engineering techniques are done, also I am taking here Rd-Kit instead of using PaDelPy because it works seamlessly with PyG and kinda easy to use. Now we will try to implement this approach in the next analysis so that the distribution of the dataset gets stabilized."
   ]
  },
  {
   "cell_type": "code",
   "execution_count": 26,
   "metadata": {},
   "outputs": [],
   "source": [
    "# saving the train and the test set of the data\n",
    "\n",
    "merged_data.to_csv('train_data.csv')\n",
    "data_with_null.to_csv('test_data.csv')"
   ]
  }
 ],
 "metadata": {
  "kernelspec": {
   "display_name": "Python 3 (ipykernel)",
   "language": "python",
   "name": "python3"
  },
  "language_info": {
   "codemirror_mode": {
    "name": "ipython",
    "version": 3
   },
   "file_extension": ".py",
   "mimetype": "text/x-python",
   "name": "python",
   "nbconvert_exporter": "python",
   "pygments_lexer": "ipython3",
   "version": "3.8.0"
  }
 },
 "nbformat": 4,
 "nbformat_minor": 4
}

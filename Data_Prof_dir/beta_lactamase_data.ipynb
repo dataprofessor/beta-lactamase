{
 "cells": [
  {
   "cell_type": "markdown",
   "metadata": {
    "id": "uOXYIR2P5bUi"
   },
   "source": [
    "# **Beta-Lactamase Data**\n",
    "\n",
    "Chanin Nantasenamat\n",
    "\n",
    "[Data Professor YouTube channel](https://youtube.com/dataprofessor)"
   ]
  },
  {
   "cell_type": "code",
   "execution_count": 1,
   "metadata": {
    "colab": {
     "base_uri": "https://localhost:8080/"
    },
    "id": "qsH_hHB45UCK",
    "outputId": "5be383fe-fb41-4038-ac70-dd2e56248de1"
   },
   "outputs": [
    {
     "name": "stdout",
     "output_type": "stream",
     "text": [
      "--2021-10-08 15:40:00--  https://github.com/dataprofessor/beta-lactamase/raw/main/beta_lactamase_CHEMBL29.zip\n",
      "Resolving github.com (github.com)... 140.82.113.4\n",
      "Connecting to github.com (github.com)|140.82.113.4|:443... connected.\n",
      "HTTP request sent, awaiting response... 302 Found\n",
      "Location: https://raw.githubusercontent.com/dataprofessor/beta-lactamase/main/beta_lactamase_CHEMBL29.zip [following]\n",
      "--2021-10-08 15:40:00--  https://raw.githubusercontent.com/dataprofessor/beta-lactamase/main/beta_lactamase_CHEMBL29.zip\n",
      "Resolving raw.githubusercontent.com (raw.githubusercontent.com)... 185.199.111.133, 185.199.110.133, 185.199.108.133, ...\n",
      "Connecting to raw.githubusercontent.com (raw.githubusercontent.com)|185.199.111.133|:443... connected.\n",
      "HTTP request sent, awaiting response... 200 OK\n",
      "Length: 1416390 (1.4M) [application/zip]\n",
      "Saving to: ‘beta_lactamase_CHEMBL29.zip’\n",
      "\n",
      "beta_lactamase_CHEM 100%[===================>]   1.35M  --.-KB/s    in 0.06s   \n",
      "\n",
      "2021-10-08 15:40:00 (23.6 MB/s) - ‘beta_lactamase_CHEMBL29.zip’ saved [1416390/1416390]\n",
      "\n"
     ]
    }
   ],
   "source": [
    "! wget https://github.com/dataprofessor/beta-lactamase/raw/main/beta_lactamase_CHEMBL29.zip"
   ]
  },
  {
   "cell_type": "code",
   "execution_count": 2,
   "metadata": {
    "colab": {
     "base_uri": "https://localhost:8080/"
    },
    "id": "lrOAAhvzpPZm",
    "outputId": "e5d7c6e4-098f-41a2-fc1e-6ddb31318e6b"
   },
   "outputs": [
    {
     "name": "stdout",
     "output_type": "stream",
     "text": [
      "Archive:  beta_lactamase_CHEMBL29.zip\n",
      "  inflating: CHEMBL1075063.csv       \n",
      "  inflating: CHEMBL1075073.csv       \n",
      "  inflating: CHEMBL1075081.csv       \n",
      "  inflating: CHEMBL1075159.csv       \n",
      "  inflating: CHEMBL1075174.csv       \n",
      "  inflating: CHEMBL1075210.csv       \n",
      "  inflating: CHEMBL1169593.csv       \n",
      "  inflating: CHEMBL1250341.csv       \n",
      "  inflating: CHEMBL1255121.csv       \n",
      "  inflating: CHEMBL1255122.csv       \n",
      "  inflating: CHEMBL1255123.csv       \n",
      "  inflating: CHEMBL1255124.csv       \n",
      "  inflating: CHEMBL1255130.csv       \n",
      "  inflating: CHEMBL1255135.csv       \n",
      "  inflating: CHEMBL1255143.csv       \n",
      "  inflating: CHEMBL1255144.csv       \n",
      "  inflating: CHEMBL1255145.csv       \n",
      "  inflating: CHEMBL1255147.csv       \n",
      "  inflating: CHEMBL1255155.csv       \n",
      "  inflating: CHEMBL1287595.csv       \n",
      "  inflating: CHEMBL1287596.csv       \n",
      "  inflating: CHEMBL1287597.csv       \n",
      "  inflating: CHEMBL1287599.csv       \n",
      "  inflating: CHEMBL1287600.csv       \n",
      "  inflating: CHEMBL1287601.csv       \n",
      "  inflating: CHEMBL1287604.csv       \n",
      "  inflating: CHEMBL1287605.csv       \n",
      "  inflating: CHEMBL1287606.csv       \n",
      "  inflating: CHEMBL1287629.csv       \n",
      "  inflating: CHEMBL1287630.csv       \n",
      "  inflating: CHEMBL1293244.csv       \n",
      "  inflating: CHEMBL1293246.csv       \n",
      "  inflating: CHEMBL1293260.csv       \n",
      "  inflating: CHEMBL1641338.csv       \n",
      "  inflating: CHEMBL1641339.csv       \n",
      "  inflating: CHEMBL1641350.csv       \n",
      "  inflating: CHEMBL1641358.csv       \n",
      "  inflating: CHEMBL1667675.csv       \n",
      "  inflating: CHEMBL1667676.csv       \n",
      "  inflating: CHEMBL1667677.csv       \n",
      "  inflating: CHEMBL1667678.csv       \n",
      "  inflating: CHEMBL1667679.csv       \n",
      "  inflating: CHEMBL1667680.csv       \n",
      "  inflating: CHEMBL1667689.csv       \n",
      "  inflating: CHEMBL1667690.csv       \n",
      "  inflating: CHEMBL1667691.csv       \n",
      "  inflating: CHEMBL1667692.csv       \n",
      "  inflating: CHEMBL1667693.csv       \n",
      "  inflating: CHEMBL1667694.csv       \n",
      "  inflating: CHEMBL1667695.csv       \n",
      "  inflating: CHEMBL1667696.csv       \n",
      "  inflating: CHEMBL1667697.csv       \n",
      "  inflating: CHEMBL1667700.csv       \n",
      "  inflating: CHEMBL1667701.csv       \n",
      "  inflating: CHEMBL1697666.csv       \n",
      "  inflating: CHEMBL1697675.csv       \n",
      "  inflating: CHEMBL1744485.csv       \n",
      "  inflating: CHEMBL1744486.csv       \n",
      "  inflating: CHEMBL1744488.csv       \n",
      "  inflating: CHEMBL1744489.csv       \n",
      "  inflating: CHEMBL1744490.csv       \n",
      "  inflating: CHEMBL1744491.csv       \n",
      "  inflating: CHEMBL1744492.csv       \n",
      "  inflating: CHEMBL1989.csv          \n",
      "  inflating: CHEMBL2026.csv          \n",
      "  inflating: CHEMBL2065.csv          \n",
      "  inflating: CHEMBL2079847.csv       \n",
      "  inflating: CHEMBL2233619.csv       \n",
      "  inflating: CHEMBL2233620.csv       \n",
      "  inflating: CHEMBL2354204.csv       \n",
      "  inflating: CHEMBL2364670.csv       \n",
      "  inflating: CHEMBL2626.csv          \n",
      "  inflating: CHEMBL2725.csv          \n",
      "  inflating: CHEMBL3259498.csv       \n",
      "  inflating: CHEMBL3308938.csv       \n",
      "  inflating: CHEMBL3309038.csv       \n",
      "  inflating: CHEMBL3326.csv          \n",
      "  inflating: CHEMBL3499.csv          \n",
      "  inflating: CHEMBL3562177.csv       \n",
      "  inflating: CHEMBL3562178.csv       \n",
      "  inflating: CHEMBL3562179.csv       \n",
      "  inflating: CHEMBL3562180.csv       \n",
      "  inflating: CHEMBL3562181.csv       \n",
      "  inflating: CHEMBL3652.csv          \n",
      "  inflating: CHEMBL3832957.csv       \n",
      "  inflating: CHEMBL3885662.csv       \n",
      "  inflating: CHEMBL3885665.csv       \n",
      "  inflating: CHEMBL3885668.csv       \n",
      "  inflating: CHEMBL3885669.csv       \n",
      "  inflating: CHEMBL3885670.csv       \n",
      "  inflating: CHEMBL4105738.csv       \n",
      "  inflating: CHEMBL4105931.csv       \n",
      "  inflating: CHEMBL4105964.csv       \n",
      "  inflating: CHEMBL4114.csv          \n",
      "  inflating: CHEMBL4295526.csv       \n",
      "  inflating: CHEMBL4295540.csv       \n",
      "  inflating: CHEMBL4295603.csv       \n",
      "  inflating: CHEMBL4295613.csv       \n",
      "  inflating: CHEMBL4295635.csv       \n",
      "  inflating: CHEMBL4295642.csv       \n",
      "  inflating: CHEMBL4295695.csv       \n",
      "  inflating: CHEMBL4295954.csv       \n",
      "  inflating: CHEMBL4296041.csv       \n",
      "  inflating: CHEMBL4314.csv          \n",
      "  inflating: CHEMBL4782.csv          \n",
      "  inflating: CHEMBL4840.csv          \n",
      "  inflating: CHEMBL4951.csv          \n",
      "  inflating: CHEMBL5012.csv          \n",
      "  inflating: CHEMBL5031.csv          \n",
      "  inflating: CHEMBL5041.csv          \n",
      "  inflating: CHEMBL5042.csv          \n",
      "  inflating: CHEMBL5094.csv          \n",
      "  inflating: CHEMBL5153.csv          \n",
      "  inflating: CHEMBL5157.csv          \n",
      "  inflating: CHEMBL5219.csv          \n",
      "  inflating: CHEMBL5303.csv          \n",
      "  inflating: CHEMBL5305.csv          \n",
      "  inflating: CHEMBL5309.csv          \n",
      "  inflating: CHEMBL5321.csv          \n",
      "  inflating: CHEMBL5437.csv          \n",
      "  inflating: CHEMBL5438.csv          \n",
      "  inflating: CHEMBL5439.csv          \n",
      "  inflating: CHEMBL5482.csv          \n",
      "  inflating: CHEMBL5633.csv          \n",
      "  inflating: CHEMBL5693.csv          \n",
      "  inflating: CHEMBL5732.csv          \n",
      "  inflating: CHEMBL5744.csv          \n",
      "  inflating: CHEMBL5751.csv          \n",
      "  inflating: CHEMBL5764.csv          \n",
      "  inflating: CHEMBL5798.csv          \n",
      "  inflating: CHEMBL5895.csv          \n",
      "  inflating: CHEMBL5956.csv          \n",
      "  inflating: CHEMBL6053.csv          \n",
      "  inflating: CHEMBL6131.csv          \n",
      "  inflating: CHEMBL6132.csv          \n",
      "  inflating: CHEMBL6146.csv          \n"
     ]
    }
   ],
   "source": [
    "! unzip beta_lactamase_CHEMBL29.zip"
   ]
  },
  {
   "cell_type": "code",
   "execution_count": 3,
   "metadata": {
    "colab": {
     "base_uri": "https://localhost:8080/"
    },
    "id": "45R9rCTsj8w2",
    "outputId": "d25609f0-98bd-4dae-dbeb-beb2e3105fde"
   },
   "outputs": [
    {
     "name": "stdout",
     "output_type": "stream",
     "text": [
      "136\n"
     ]
    }
   ],
   "source": [
    "! ls *.csv | wc -l"
   ]
  },
  {
   "cell_type": "code",
   "execution_count": 5,
   "metadata": {
    "id": "rcSbHGZf96Er"
   },
   "outputs": [],
   "source": [
    "import zipfile\n",
    "import pandas as pd\n",
    "\n",
    "zf = zipfile.ZipFile(\"beta_lactamase_CHEMBL29.zip\", \"r\")\n",
    "df = pd.concat( (pd.read_csv( zf.open(f) ) for f in zf.namelist() ) )"
   ]
  },
  {
   "cell_type": "code",
   "execution_count": 6,
   "metadata": {
    "colab": {
     "base_uri": "https://localhost:8080/",
     "height": 694
    },
    "id": "IOKQXs0H7MkY",
    "outputId": "3de694bf-ef50-4bf3-aaab-a7ab67e25b43"
   },
   "outputs": [
    {
     "data": {
      "text/html": [
       "<div>\n",
       "<style scoped>\n",
       "    .dataframe tbody tr th:only-of-type {\n",
       "        vertical-align: middle;\n",
       "    }\n",
       "\n",
       "    .dataframe tbody tr th {\n",
       "        vertical-align: top;\n",
       "    }\n",
       "\n",
       "    .dataframe thead th {\n",
       "        text-align: right;\n",
       "    }\n",
       "</style>\n",
       "<table border=\"1\" class=\"dataframe\">\n",
       "  <thead>\n",
       "    <tr style=\"text-align: right;\">\n",
       "      <th></th>\n",
       "      <th>molecule_chembl_id</th>\n",
       "      <th>canonical_smiles</th>\n",
       "      <th>standard_relation</th>\n",
       "      <th>standard_value</th>\n",
       "      <th>standard_units</th>\n",
       "      <th>standard_type</th>\n",
       "      <th>pchembl_value</th>\n",
       "      <th>target_pref_name</th>\n",
       "      <th>bao_label</th>\n",
       "    </tr>\n",
       "  </thead>\n",
       "  <tbody>\n",
       "    <tr>\n",
       "      <th>0</th>\n",
       "      <td>CHEMBL1730</td>\n",
       "      <td>CO/N=C(\\C(=O)N[C@@H]1C(=O)N2C(C(=O)O)=C(COC(C)...</td>\n",
       "      <td>=</td>\n",
       "      <td>10.0</td>\n",
       "      <td>/mM/s</td>\n",
       "      <td>Kcat/Km</td>\n",
       "      <td>NaN</td>\n",
       "      <td>Gil1</td>\n",
       "      <td>assay format</td>\n",
       "    </tr>\n",
       "    <tr>\n",
       "      <th>1</th>\n",
       "      <td>CHEMBL996</td>\n",
       "      <td>CO[C@@]1(NC(=O)Cc2cccs2)C(=O)N2C(C(=O)O)=C(COC...</td>\n",
       "      <td>NaN</td>\n",
       "      <td>NaN</td>\n",
       "      <td>NaN</td>\n",
       "      <td>Kcat/Km</td>\n",
       "      <td>NaN</td>\n",
       "      <td>Gil1</td>\n",
       "      <td>assay format</td>\n",
       "    </tr>\n",
       "    <tr>\n",
       "      <th>2</th>\n",
       "      <td>CHEMBL617</td>\n",
       "      <td>CC(=O)OCC1=C(C(=O)O)N2C(=O)[C@@H](NC(=O)Cc3ccc...</td>\n",
       "      <td>=</td>\n",
       "      <td>598.0</td>\n",
       "      <td>/mM/s</td>\n",
       "      <td>Kcat/Km</td>\n",
       "      <td>NaN</td>\n",
       "      <td>Gil1</td>\n",
       "      <td>assay format</td>\n",
       "    </tr>\n",
       "    <tr>\n",
       "      <th>3</th>\n",
       "      <td>CHEMBL702</td>\n",
       "      <td>CCN1CCN(C(=O)N[C@@H](C(=O)N[C@@H]2C(=O)N3[C@@H...</td>\n",
       "      <td>=</td>\n",
       "      <td>3400.0</td>\n",
       "      <td>/mM/s</td>\n",
       "      <td>Kcat/Km</td>\n",
       "      <td>NaN</td>\n",
       "      <td>Gil1</td>\n",
       "      <td>assay format</td>\n",
       "    </tr>\n",
       "    <tr>\n",
       "      <th>4</th>\n",
       "      <td>CHEMBL1449</td>\n",
       "      <td>CC1(C)S[C@@H]2[C@H](NC(=O)[C@H](C(=O)O)c3ccsc3...</td>\n",
       "      <td>=</td>\n",
       "      <td>10000.0</td>\n",
       "      <td>/mM/s</td>\n",
       "      <td>Kcat/Km</td>\n",
       "      <td>NaN</td>\n",
       "      <td>Gil1</td>\n",
       "      <td>assay format</td>\n",
       "    </tr>\n",
       "    <tr>\n",
       "      <th>...</th>\n",
       "      <td>...</td>\n",
       "      <td>...</td>\n",
       "      <td>...</td>\n",
       "      <td>...</td>\n",
       "      <td>...</td>\n",
       "      <td>...</td>\n",
       "      <td>...</td>\n",
       "      <td>...</td>\n",
       "      <td>...</td>\n",
       "    </tr>\n",
       "    <tr>\n",
       "      <th>13</th>\n",
       "      <td>CHEMBL561555</td>\n",
       "      <td>COC(=O)CC(N)(CC(=O)OC)C(=O)OCc1ccccc1</td>\n",
       "      <td>NaN</td>\n",
       "      <td>NaN</td>\n",
       "      <td>NaN</td>\n",
       "      <td>Inhibition</td>\n",
       "      <td>NaN</td>\n",
       "      <td>Beta-lactamase VIM-4</td>\n",
       "      <td>single protein format</td>\n",
       "    </tr>\n",
       "    <tr>\n",
       "      <th>14</th>\n",
       "      <td>CHEMBL561821</td>\n",
       "      <td>NC(CC(=O)OCc1ccccc1)(CC(=O)OCc1ccccc1)C(=O)OCc...</td>\n",
       "      <td>NaN</td>\n",
       "      <td>NaN</td>\n",
       "      <td>NaN</td>\n",
       "      <td>Inhibition</td>\n",
       "      <td>NaN</td>\n",
       "      <td>Beta-lactamase VIM-4</td>\n",
       "      <td>single protein format</td>\n",
       "    </tr>\n",
       "    <tr>\n",
       "      <th>15</th>\n",
       "      <td>CHEMBL561896</td>\n",
       "      <td>COC(=O)CC(CC(=O)OC)(NC(=O)Cc1ccccc1)C(=O)OC</td>\n",
       "      <td>NaN</td>\n",
       "      <td>NaN</td>\n",
       "      <td>NaN</td>\n",
       "      <td>Inhibition</td>\n",
       "      <td>NaN</td>\n",
       "      <td>Beta-lactamase VIM-4</td>\n",
       "      <td>single protein format</td>\n",
       "    </tr>\n",
       "    <tr>\n",
       "      <th>16</th>\n",
       "      <td>CHEMBL563044</td>\n",
       "      <td>COC(=O)C(CC(=O)OCc1ccccc1)(CC(=O)OCc1ccccc1)NC...</td>\n",
       "      <td>NaN</td>\n",
       "      <td>NaN</td>\n",
       "      <td>NaN</td>\n",
       "      <td>Inhibition</td>\n",
       "      <td>NaN</td>\n",
       "      <td>Beta-lactamase VIM-4</td>\n",
       "      <td>single protein format</td>\n",
       "    </tr>\n",
       "    <tr>\n",
       "      <th>17</th>\n",
       "      <td>CHEMBL553476</td>\n",
       "      <td>O=C(COc1ccccc1)NC(CC(=O)OCc1ccccc1)(CC(=O)OCc1...</td>\n",
       "      <td>NaN</td>\n",
       "      <td>NaN</td>\n",
       "      <td>NaN</td>\n",
       "      <td>Inhibition</td>\n",
       "      <td>NaN</td>\n",
       "      <td>Beta-lactamase VIM-4</td>\n",
       "      <td>single protein format</td>\n",
       "    </tr>\n",
       "  </tbody>\n",
       "</table>\n",
       "<p>71973 rows × 9 columns</p>\n",
       "</div>"
      ],
      "text/plain": [
       "   molecule_chembl_id  ...              bao_label\n",
       "0          CHEMBL1730  ...           assay format\n",
       "1           CHEMBL996  ...           assay format\n",
       "2           CHEMBL617  ...           assay format\n",
       "3           CHEMBL702  ...           assay format\n",
       "4          CHEMBL1449  ...           assay format\n",
       "..                ...  ...                    ...\n",
       "13       CHEMBL561555  ...  single protein format\n",
       "14       CHEMBL561821  ...  single protein format\n",
       "15       CHEMBL561896  ...  single protein format\n",
       "16       CHEMBL563044  ...  single protein format\n",
       "17       CHEMBL553476  ...  single protein format\n",
       "\n",
       "[71973 rows x 9 columns]"
      ]
     },
     "execution_count": 6,
     "metadata": {},
     "output_type": "execute_result"
    }
   ],
   "source": [
    "df"
   ]
  },
  {
   "cell_type": "code",
   "execution_count": 7,
   "metadata": {
    "colab": {
     "base_uri": "https://localhost:8080/",
     "height": 323
    },
    "id": "loeDWobu_crw",
    "outputId": "eb3f5dde-86a6-46ca-c2ce-b2eeaadb583e"
   },
   "outputs": [
    {
     "data": {
      "image/png": "[encoded data removed]",
      "text/plain": [
       "<Figure size 360x324 with 1 Axes>"
      ]
     },
     "metadata": {
      "needs_background": "light"
     },
     "output_type": "display_data"
    }
   ],
   "source": [
    "# Bar plot of Missing vs Non-Missing Data\n",
    "\n",
    "import matplotlib.pyplot as plt\n",
    "\n",
    "# Data\n",
    "missing = df.pchembl_value.isnull().sum()\n",
    "nonmissing = df.pchembl_value.notnull().sum()\n",
    "\n",
    "x = ['Missing', 'Non-Missing']\n",
    "y = [missing, nonmissing]\n",
    "\n",
    "# Setup plot\n",
    "fig, ax = plt.subplots()\n",
    "\n",
    "# Make bar plot\n",
    "p = ax.bar(x, y, color = ['#F8766D', '#00BFC4'], ec = 'black')\n",
    "\n",
    "ax.set_title('pChEMBL Missing Data', fontsize=14, fontweight='bold', pad=15)\n",
    "#ax.set_xticklabels(x, fontweight='bold')\n",
    "\n",
    "ax.set_ylim(0,70000)\n",
    "plt.xticks(fontsize=14)\n",
    "plt.yticks(fontsize=14)\n",
    "\n",
    "# Label above bar\n",
    "for index, data in enumerate(y):\n",
    "    plt.text(x=index-0.1 , y =data+1000 , s=f\"{data}\" , fontdict=dict(fontsize=14))\n",
    "\n",
    "fig.set_size_inches(5,4.5)\n",
    "plt.show()"
   ]
  },
  {
   "cell_type": "code",
   "execution_count": 8,
   "metadata": {
    "colab": {
     "base_uri": "https://localhost:8080/",
     "height": 745
    },
    "id": "y1D_ifqDIRjS",
    "outputId": "3f2f39a8-b1b6-48f0-c870-78fd7366cfa4"
   },
   "outputs": [
    {
     "data": {
      "text/html": [
       "<div>\n",
       "<style scoped>\n",
       "    .dataframe tbody tr th:only-of-type {\n",
       "        vertical-align: middle;\n",
       "    }\n",
       "\n",
       "    .dataframe tbody tr th {\n",
       "        vertical-align: top;\n",
       "    }\n",
       "\n",
       "    .dataframe thead th {\n",
       "        text-align: right;\n",
       "    }\n",
       "</style>\n",
       "<table border=\"1\" class=\"dataframe\">\n",
       "  <thead>\n",
       "    <tr style=\"text-align: right;\">\n",
       "      <th></th>\n",
       "      <th>molecule_chembl_id</th>\n",
       "      <th>canonical_smiles</th>\n",
       "      <th>standard_relation</th>\n",
       "      <th>standard_value</th>\n",
       "      <th>standard_units</th>\n",
       "      <th>standard_type</th>\n",
       "      <th>pchembl_value</th>\n",
       "      <th>target_pref_name</th>\n",
       "      <th>bao_label</th>\n",
       "    </tr>\n",
       "  </thead>\n",
       "  <tbody>\n",
       "    <tr>\n",
       "      <th>47</th>\n",
       "      <td>CHEMBL777</td>\n",
       "      <td>O=C(O)[C@H]1/C(=C/CO)O[C@@H]2CC(=O)N21</td>\n",
       "      <td>=</td>\n",
       "      <td>9.0</td>\n",
       "      <td>nM</td>\n",
       "      <td>IC50</td>\n",
       "      <td>8.05</td>\n",
       "      <td>Gil1</td>\n",
       "      <td>assay format</td>\n",
       "    </tr>\n",
       "    <tr>\n",
       "      <th>48</th>\n",
       "      <td>CHEMBL404</td>\n",
       "      <td>C[C@]1(Cn2ccnn2)[C@H](C(=O)O)N2C(=O)C[C@H]2S1(...</td>\n",
       "      <td>=</td>\n",
       "      <td>40.0</td>\n",
       "      <td>nM</td>\n",
       "      <td>IC50</td>\n",
       "      <td>7.40</td>\n",
       "      <td>Gil1</td>\n",
       "      <td>assay format</td>\n",
       "    </tr>\n",
       "    <tr>\n",
       "      <th>7</th>\n",
       "      <td>CHEMBL777</td>\n",
       "      <td>O=C(O)[C@H]1/C(=C/CO)O[C@@H]2CC(=O)N21</td>\n",
       "      <td>=</td>\n",
       "      <td>70.0</td>\n",
       "      <td>nM</td>\n",
       "      <td>IC50</td>\n",
       "      <td>7.16</td>\n",
       "      <td>Beta-lactamase SCO-1</td>\n",
       "      <td>single protein format</td>\n",
       "    </tr>\n",
       "    <tr>\n",
       "      <th>8</th>\n",
       "      <td>CHEMBL403</td>\n",
       "      <td>CC1(C)[C@H](C(=O)O)N2C(=O)C[C@H]2S1(=O)=O</td>\n",
       "      <td>=</td>\n",
       "      <td>6200.0</td>\n",
       "      <td>nM</td>\n",
       "      <td>IC50</td>\n",
       "      <td>5.21</td>\n",
       "      <td>Beta-lactamase SCO-1</td>\n",
       "      <td>single protein format</td>\n",
       "    </tr>\n",
       "    <tr>\n",
       "      <th>9</th>\n",
       "      <td>CHEMBL404</td>\n",
       "      <td>C[C@]1(Cn2ccnn2)[C@H](C(=O)O)N2C(=O)C[C@H]2S1(...</td>\n",
       "      <td>=</td>\n",
       "      <td>10.0</td>\n",
       "      <td>nM</td>\n",
       "      <td>IC50</td>\n",
       "      <td>8.00</td>\n",
       "      <td>Beta-lactamase SCO-1</td>\n",
       "      <td>single protein format</td>\n",
       "    </tr>\n",
       "    <tr>\n",
       "      <th>...</th>\n",
       "      <td>...</td>\n",
       "      <td>...</td>\n",
       "      <td>...</td>\n",
       "      <td>...</td>\n",
       "      <td>...</td>\n",
       "      <td>...</td>\n",
       "      <td>...</td>\n",
       "      <td>...</td>\n",
       "      <td>...</td>\n",
       "    </tr>\n",
       "    <tr>\n",
       "      <th>57</th>\n",
       "      <td>CHEMBL404</td>\n",
       "      <td>C[C@]1(Cn2ccnn2)[C@H](C(=O)O)N2C(=O)C[C@H]2S1(...</td>\n",
       "      <td>=</td>\n",
       "      <td>374.0</td>\n",
       "      <td>nM</td>\n",
       "      <td>IC50</td>\n",
       "      <td>6.43</td>\n",
       "      <td>Carbepenem-hydrolyzing beta-lactamase KPC</td>\n",
       "      <td>assay format</td>\n",
       "    </tr>\n",
       "    <tr>\n",
       "      <th>90</th>\n",
       "      <td>CHEMBL404</td>\n",
       "      <td>C[C@]1(Cn2ccnn2)[C@H](C(=O)O)N2C(=O)C[C@H]2S1(...</td>\n",
       "      <td>=</td>\n",
       "      <td>370.0</td>\n",
       "      <td>nM</td>\n",
       "      <td>IC50</td>\n",
       "      <td>6.43</td>\n",
       "      <td>Carbepenem-hydrolyzing beta-lactamase KPC</td>\n",
       "      <td>single protein format</td>\n",
       "    </tr>\n",
       "    <tr>\n",
       "      <th>91</th>\n",
       "      <td>CHEMBL777</td>\n",
       "      <td>O=C(O)[C@H]1/C(=C/CO)O[C@@H]2CC(=O)N21</td>\n",
       "      <td>=</td>\n",
       "      <td>10500.0</td>\n",
       "      <td>nM</td>\n",
       "      <td>IC50</td>\n",
       "      <td>4.98</td>\n",
       "      <td>Carbepenem-hydrolyzing beta-lactamase KPC</td>\n",
       "      <td>single protein format</td>\n",
       "    </tr>\n",
       "    <tr>\n",
       "      <th>107</th>\n",
       "      <td>CHEMBL777</td>\n",
       "      <td>O=C(O)[C@H]1/C(=C/CO)O[C@@H]2CC(=O)N21</td>\n",
       "      <td>=</td>\n",
       "      <td>11000.0</td>\n",
       "      <td>nM</td>\n",
       "      <td>Ki</td>\n",
       "      <td>4.96</td>\n",
       "      <td>Carbepenem-hydrolyzing beta-lactamase KPC</td>\n",
       "      <td>single protein format</td>\n",
       "    </tr>\n",
       "    <tr>\n",
       "      <th>109</th>\n",
       "      <td>CHEMBL404</td>\n",
       "      <td>C[C@]1(Cn2ccnn2)[C@H](C(=O)O)N2C(=O)C[C@H]2S1(...</td>\n",
       "      <td>=</td>\n",
       "      <td>74000.0</td>\n",
       "      <td>nM</td>\n",
       "      <td>Ki</td>\n",
       "      <td>4.13</td>\n",
       "      <td>Carbepenem-hydrolyzing beta-lactamase KPC</td>\n",
       "      <td>single protein format</td>\n",
       "    </tr>\n",
       "  </tbody>\n",
       "</table>\n",
       "<p>64424 rows × 9 columns</p>\n",
       "</div>"
      ],
      "text/plain": [
       "    molecule_chembl_id  ...              bao_label\n",
       "47           CHEMBL777  ...           assay format\n",
       "48           CHEMBL404  ...           assay format\n",
       "7            CHEMBL777  ...  single protein format\n",
       "8            CHEMBL403  ...  single protein format\n",
       "9            CHEMBL404  ...  single protein format\n",
       "..                 ...  ...                    ...\n",
       "57           CHEMBL404  ...           assay format\n",
       "90           CHEMBL404  ...  single protein format\n",
       "91           CHEMBL777  ...  single protein format\n",
       "107          CHEMBL777  ...  single protein format\n",
       "109          CHEMBL404  ...  single protein format\n",
       "\n",
       "[64424 rows x 9 columns]"
      ]
     },
     "execution_count": 8,
     "metadata": {},
     "output_type": "execute_result"
    }
   ],
   "source": [
    "# Non-missing data with pChEMBL value\n",
    "df2 = df[df.pchembl_value.notnull()]\n",
    "df2"
   ]
  },
  {
   "cell_type": "code",
   "execution_count": 9,
   "metadata": {
    "colab": {
     "base_uri": "https://localhost:8080/",
     "height": 450
    },
    "id": "lDzUyr8FI76r",
    "outputId": "533304c2-a0bf-4cfa-e32e-caede68c892f"
   },
   "outputs": [
    {
     "data": {
      "text/html": [
       "<div>\n",
       "<style scoped>\n",
       "    .dataframe tbody tr th:only-of-type {\n",
       "        vertical-align: middle;\n",
       "    }\n",
       "\n",
       "    .dataframe tbody tr th {\n",
       "        vertical-align: top;\n",
       "    }\n",
       "\n",
       "    .dataframe thead th {\n",
       "        text-align: right;\n",
       "    }\n",
       "</style>\n",
       "<table border=\"1\" class=\"dataframe\">\n",
       "  <thead>\n",
       "    <tr style=\"text-align: right;\">\n",
       "      <th></th>\n",
       "      <th>standard_value</th>\n",
       "      <th>pchembl_value</th>\n",
       "    </tr>\n",
       "    <tr>\n",
       "      <th>molecule_chembl_id</th>\n",
       "      <th></th>\n",
       "      <th></th>\n",
       "    </tr>\n",
       "  </thead>\n",
       "  <tbody>\n",
       "    <tr>\n",
       "      <th>CHEMBL1018</th>\n",
       "      <td>316.200000</td>\n",
       "      <td>6.500000</td>\n",
       "    </tr>\n",
       "    <tr>\n",
       "      <th>CHEMBL1024</th>\n",
       "      <td>11220.200000</td>\n",
       "      <td>4.950000</td>\n",
       "    </tr>\n",
       "    <tr>\n",
       "      <th>CHEMBL1028</th>\n",
       "      <td>2818.400000</td>\n",
       "      <td>5.550000</td>\n",
       "    </tr>\n",
       "    <tr>\n",
       "      <th>CHEMBL1036</th>\n",
       "      <td>39.800000</td>\n",
       "      <td>7.400000</td>\n",
       "    </tr>\n",
       "    <tr>\n",
       "      <th>CHEMBL104</th>\n",
       "      <td>27500.000000</td>\n",
       "      <td>4.580000</td>\n",
       "    </tr>\n",
       "    <tr>\n",
       "      <th>...</th>\n",
       "      <td>...</td>\n",
       "      <td>...</td>\n",
       "    </tr>\n",
       "    <tr>\n",
       "      <th>CHEMBL97643</th>\n",
       "      <td>11220.200000</td>\n",
       "      <td>4.950000</td>\n",
       "    </tr>\n",
       "    <tr>\n",
       "      <th>CHEMBL977</th>\n",
       "      <td>631.000000</td>\n",
       "      <td>6.200000</td>\n",
       "    </tr>\n",
       "    <tr>\n",
       "      <th>CHEMBL98406</th>\n",
       "      <td>63095.700000</td>\n",
       "      <td>4.200000</td>\n",
       "    </tr>\n",
       "    <tr>\n",
       "      <th>CHEMBL995</th>\n",
       "      <td>14125.400000</td>\n",
       "      <td>4.850000</td>\n",
       "    </tr>\n",
       "    <tr>\n",
       "      <th>CHEMBL996</th>\n",
       "      <td>246.666667</td>\n",
       "      <td>6.716667</td>\n",
       "    </tr>\n",
       "  </tbody>\n",
       "</table>\n",
       "<p>63038 rows × 2 columns</p>\n",
       "</div>"
      ],
      "text/plain": [
       "                    standard_value  pchembl_value\n",
       "molecule_chembl_id                               \n",
       "CHEMBL1018              316.200000       6.500000\n",
       "CHEMBL1024            11220.200000       4.950000\n",
       "CHEMBL1028             2818.400000       5.550000\n",
       "CHEMBL1036               39.800000       7.400000\n",
       "CHEMBL104             27500.000000       4.580000\n",
       "...                            ...            ...\n",
       "CHEMBL97643           11220.200000       4.950000\n",
       "CHEMBL977               631.000000       6.200000\n",
       "CHEMBL98406           63095.700000       4.200000\n",
       "CHEMBL995             14125.400000       4.850000\n",
       "CHEMBL996               246.666667       6.716667\n",
       "\n",
       "[63038 rows x 2 columns]"
      ]
     },
     "execution_count": 9,
     "metadata": {},
     "output_type": "execute_result"
    }
   ],
   "source": [
    "df2.groupby('molecule_chembl_id').mean()"
   ]
  },
  {
   "cell_type": "code",
   "execution_count": 10,
   "metadata": {
    "colab": {
     "base_uri": "https://localhost:8080/",
     "height": 450
    },
    "id": "v6gBZtD6J89z",
    "outputId": "f5985ab7-9d24-4f6d-d92d-de6fee84d691"
   },
   "outputs": [
    {
     "data": {
      "text/html": [
       "<div>\n",
       "<style scoped>\n",
       "    .dataframe tbody tr th:only-of-type {\n",
       "        vertical-align: middle;\n",
       "    }\n",
       "\n",
       "    .dataframe tbody tr th {\n",
       "        vertical-align: top;\n",
       "    }\n",
       "\n",
       "    .dataframe thead th {\n",
       "        text-align: right;\n",
       "    }\n",
       "</style>\n",
       "<table border=\"1\" class=\"dataframe\">\n",
       "  <thead>\n",
       "    <tr style=\"text-align: right;\">\n",
       "      <th></th>\n",
       "      <th>standard_value</th>\n",
       "      <th>pchembl_value</th>\n",
       "    </tr>\n",
       "    <tr>\n",
       "      <th>molecule_chembl_id</th>\n",
       "      <th></th>\n",
       "      <th></th>\n",
       "    </tr>\n",
       "  </thead>\n",
       "  <tbody>\n",
       "    <tr>\n",
       "      <th>CHEMBL1018</th>\n",
       "      <td>NaN</td>\n",
       "      <td>NaN</td>\n",
       "    </tr>\n",
       "    <tr>\n",
       "      <th>CHEMBL1024</th>\n",
       "      <td>NaN</td>\n",
       "      <td>NaN</td>\n",
       "    </tr>\n",
       "    <tr>\n",
       "      <th>CHEMBL1028</th>\n",
       "      <td>NaN</td>\n",
       "      <td>NaN</td>\n",
       "    </tr>\n",
       "    <tr>\n",
       "      <th>CHEMBL1036</th>\n",
       "      <td>NaN</td>\n",
       "      <td>NaN</td>\n",
       "    </tr>\n",
       "    <tr>\n",
       "      <th>CHEMBL104</th>\n",
       "      <td>10606.601718</td>\n",
       "      <td>0.169706</td>\n",
       "    </tr>\n",
       "    <tr>\n",
       "      <th>...</th>\n",
       "      <td>...</td>\n",
       "      <td>...</td>\n",
       "    </tr>\n",
       "    <tr>\n",
       "      <th>CHEMBL97643</th>\n",
       "      <td>NaN</td>\n",
       "      <td>NaN</td>\n",
       "    </tr>\n",
       "    <tr>\n",
       "      <th>CHEMBL977</th>\n",
       "      <td>NaN</td>\n",
       "      <td>NaN</td>\n",
       "    </tr>\n",
       "    <tr>\n",
       "      <th>CHEMBL98406</th>\n",
       "      <td>NaN</td>\n",
       "      <td>NaN</td>\n",
       "    </tr>\n",
       "    <tr>\n",
       "      <th>CHEMBL995</th>\n",
       "      <td>NaN</td>\n",
       "      <td>NaN</td>\n",
       "    </tr>\n",
       "    <tr>\n",
       "      <th>CHEMBL996</th>\n",
       "      <td>220.302822</td>\n",
       "      <td>0.368556</td>\n",
       "    </tr>\n",
       "  </tbody>\n",
       "</table>\n",
       "<p>63038 rows × 2 columns</p>\n",
       "</div>"
      ],
      "text/plain": [
       "                    standard_value  pchembl_value\n",
       "molecule_chembl_id                               \n",
       "CHEMBL1018                     NaN            NaN\n",
       "CHEMBL1024                     NaN            NaN\n",
       "CHEMBL1028                     NaN            NaN\n",
       "CHEMBL1036                     NaN            NaN\n",
       "CHEMBL104             10606.601718       0.169706\n",
       "...                            ...            ...\n",
       "CHEMBL97643                    NaN            NaN\n",
       "CHEMBL977                      NaN            NaN\n",
       "CHEMBL98406                    NaN            NaN\n",
       "CHEMBL995                      NaN            NaN\n",
       "CHEMBL996               220.302822       0.368556\n",
       "\n",
       "[63038 rows x 2 columns]"
      ]
     },
     "execution_count": 10,
     "metadata": {},
     "output_type": "execute_result"
    }
   ],
   "source": [
    "df2.groupby('molecule_chembl_id').std()"
   ]
  },
  {
   "cell_type": "code",
   "execution_count": null,
   "metadata": {
    "id": "0RA_lfBwJIwy"
   },
   "outputs": [],
   "source": [
    "df3 = df2.groupby('molecule_chembl_id').std()\n",
    "df3[(df3.pchembl_value < 2) & (df3.pchembl_value == pd.NA)]"
   ]
  },
  {
   "cell_type": "code",
   "execution_count": null,
   "metadata": {
    "id": "pcLXyM6vI8Se"
   },
   "outputs": [],
   "source": [
    "import numpy as np\n",
    "\n",
    "df3 = df2.groupby('molecule_chembl_id').std()\n",
    "df3[df3.pchembl_value == np.nan]"
   ]
  },
  {
   "cell_type": "code",
   "execution_count": null,
   "metadata": {
    "id": "08FmWk9II8VI"
   },
   "outputs": [],
   "source": []
  },
  {
   "cell_type": "code",
   "execution_count": 11,
   "metadata": {
    "colab": {
     "base_uri": "https://localhost:8080/"
    },
    "id": "n8nLErqNA81y",
    "outputId": "2f6c859d-ee8a-46c4-d5dd-4a07fac4e954"
   },
   "outputs": [
    {
     "name": "stdout",
     "output_type": "stream",
     "text": [
      "Number of unique ChEMBL ID: 64436\n",
      "Total number of ChEMBL ID:  71973\n",
      "Number of missing ChEMBL ID:  0\n"
     ]
    }
   ],
   "source": [
    "print('Number of unique ChEMBL ID:', str(len(df.molecule_chembl_id.unique()) )  )\n",
    "print('Total number of ChEMBL ID: ', str(len(df)) )\n",
    "print('Number of missing ChEMBL ID: ', str(df.molecule_chembl_id.isnull().sum()) )"
   ]
  },
  {
   "cell_type": "code",
   "execution_count": 12,
   "metadata": {
    "id": "l3TZE0L0WcFN"
   },
   "outputs": [],
   "source": [
    "import matplotlib.pyplot as plt\n",
    "\n",
    "unique = len(df.molecule_chembl_id.unique())\n",
    "not_unique = len(df) - unique\n",
    "\n",
    "x = ['Unique', 'Redundant']\n",
    "y = [unique, not_unique]\n",
    "\n"
   ]
  },
  {
   "cell_type": "code",
   "execution_count": 13,
   "metadata": {
    "colab": {
     "base_uri": "https://localhost:8080/",
     "height": 491
    },
    "id": "B9WI4MpiHJgP",
    "outputId": "4382a0e2-e5df-4282-d075-100c6d921599"
   },
   "outputs": [
    {
     "data": {
      "image/png": "[encoded data removed]",
      "text/plain": [
       "<Figure size 1728x288 with 1 Axes>"
      ]
     },
     "metadata": {
      "needs_background": "light"
     },
     "output_type": "display_data"
    }
   ],
   "source": [
    "df2.target_pref_name.value_counts()[0:50].plot.bar(figsize=(24,4), color='#00BFC4', ec='black')\n",
    "\n",
    "plt.title('Top 50 Targets', fontsize=14, fontweight='black', pad=15)\n",
    "plt.show()"
   ]
  },
  {
   "cell_type": "code",
   "execution_count": 14,
   "metadata": {
    "colab": {
     "base_uri": "https://localhost:8080/",
     "height": 321
    },
    "id": "fl1ykWbNKOJz",
    "outputId": "92a15a84-abe2-4bb3-ad46-743fd91a221d"
   },
   "outputs": [
    {
     "data": {
      "image/png": "[encoded data removed]",
      "text/plain": [
       "<Figure size 576x288 with 1 Axes>"
      ]
     },
     "metadata": {
      "needs_background": "light"
     },
     "output_type": "display_data"
    }
   ],
   "source": [
    "# Top 10 Bioactivity units\n",
    "df2.standard_type.value_counts()[:10].plot.bar(figsize=(8,4), color='#00BFC4', ec='black')\n",
    "\n",
    "plt.title('Top Bioactivity Units', fontsize=14, fontweight='black', pad=15)\n",
    "plt.show()"
   ]
  },
  {
   "cell_type": "code",
   "execution_count": 15,
   "metadata": {
    "colab": {
     "base_uri": "https://localhost:8080/",
     "height": 408
    },
    "id": "pQ2fxUGVSeNn",
    "outputId": "d96e5e4c-ce9d-40f3-bc0e-31b10a1c7d53"
   },
   "outputs": [
    {
     "data": {
      "image/png": "[encoded data removed]",
      "text/plain": [
       "<Figure size 576x288 with 1 Axes>"
      ]
     },
     "metadata": {
      "needs_background": "light"
     },
     "output_type": "display_data"
    }
   ],
   "source": [
    "bao_labels = df2.bao_label.value_counts()\n",
    "bao_labels.plot.bar(figsize=(8,4), color='#00BFC4', ec='black')\n",
    "\n",
    "plt.title('Histogram of BioAssay Ontology', fontsize=14, fontweight='black', pad=15)\n",
    "plt.xticks(fontsize=12)\n",
    "plt.yticks(fontsize=12)\n",
    "plt.show()"
   ]
  },
  {
   "cell_type": "code",
   "execution_count": null,
   "metadata": {
    "id": "GOkc9-PiUYvY"
   },
   "outputs": [],
   "source": [
    "bao_labels"
   ]
  },
  {
   "cell_type": "code",
   "execution_count": 16,
   "metadata": {
    "colab": {
     "base_uri": "https://localhost:8080/",
     "height": 294
    },
    "id": "XOrwRrA2L8__",
    "outputId": "2d64d786-d2d3-4053-da09-633b8a7e57e1"
   },
   "outputs": [
    {
     "data": {
      "image/png": "[encoded data removed]",
      "text/plain": [
       "<Figure size 576x288 with 1 Axes>"
      ]
     },
     "metadata": {
      "needs_background": "light"
     },
     "output_type": "display_data"
    }
   ],
   "source": [
    "df2.pchembl_value.hist(bins=40, figsize=(8,4), color='#00BFC4', ec='black')\n",
    "\n",
    "plt.title('Histogram of pChEMBL values', fontsize=14, fontweight='black', pad=15)\n",
    "plt.xticks(fontsize=12)\n",
    "plt.yticks(fontsize=12)\n",
    "plt.show()"
   ]
  },
  {
   "cell_type": "code",
   "execution_count": null,
   "metadata": {
    "id": "Xq2BMPZCIHGf"
   },
   "outputs": [],
   "source": []
  },
  {
   "cell_type": "markdown",
   "metadata": {
    "id": "iaS_0mQmpjsI"
   },
   "source": [
    "pChEMBL values <5 == 'Inactive'\n",
    "pChEMBL values > 6 == 'Active'\n",
    "pChEMBL values 5-6 == 'Intermediate'"
   ]
  }
 ],
 "metadata": {
  "colab": {
   "collapsed_sections": [],
   "name": "beta-lactamase-data.ipynb",
   "provenance": []
  },
  "kernelspec": {
   "display_name": "Python 3 (ipykernel)",
   "language": "python",
   "name": "python3"
  },
  "language_info": {
   "codemirror_mode": {
    "name": "ipython",
    "version": 3
   },
   "file_extension": ".py",
   "mimetype": "text/x-python",
   "name": "python",
   "nbconvert_exporter": "python",
   "pygments_lexer": "ipython3",
   "version": "3.8.10"
  }
 },
 "nbformat": 4,
 "nbformat_minor": 1
}
